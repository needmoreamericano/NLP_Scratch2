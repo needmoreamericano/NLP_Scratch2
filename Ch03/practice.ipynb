{
 "cells": [
  {
   "cell_type": "code",
   "execution_count": 1,
   "metadata": {},
   "outputs": [],
   "source": [
    "import sys\n",
    "sys.path.append('..')\n",
    "import numpy as np\n",
    "from common.layers import MatMul"
   ]
  },
  {
   "cell_type": "code",
   "execution_count": 2,
   "metadata": {},
   "outputs": [
    {
     "name": "stdout",
     "output_type": "stream",
     "text": [
      "[[ 0.13368583 -0.14332352 -0.45361006 -0.50308295 -1.10112247 -0.57254267\n",
      "   0.26955863]]\n"
     ]
    }
   ],
   "source": [
    "# 샘플 맥락 데이터\n",
    "c0 = np.array([[1,0,0,0,0,0,0]])\n",
    "c1 = np.array([[0,0,1,0,0,0,0]])\n",
    "\n",
    "# 가중치 초기화\n",
    "W_in = np.random.randn(7,3)\n",
    "W_out = np.random.randn(3,7)\n",
    "\n",
    "# layer\n",
    "in_layer0 = MatMul(W_in)\n",
    "in_layer1 = MatMul(W_in)\n",
    "out_layer = MatMul(W_out)\n",
    "\n",
    "# forward\n",
    "h0 = in_layer0.forward(c0)\n",
    "h1 = in_layer1.forward(c1)\n",
    "h = 0.5 * (h0 + h1)\n",
    "s = out_layer.forward(h)\n",
    "\n",
    "print(s)"
   ]
  },
  {
   "cell_type": "code",
   "execution_count": 3,
   "metadata": {},
   "outputs": [
    {
     "name": "stdout",
     "output_type": "stream",
     "text": [
      "[0 1 2 3 4 1 5 6]\n",
      "{0: 'you', 1: 'say', 2: 'goodbye', 3: 'and', 4: 'i', 5: 'hello', 6: '.'}\n"
     ]
    }
   ],
   "source": [
    "from common.util import preprocess\n",
    "\n",
    "text = 'You say goodbye and I say hello.'\n",
    "corpus, word_to_id, id_to_word = preprocess(text)\n",
    "print(corpus)\n",
    "print(id_to_word)"
   ]
  },
  {
   "cell_type": "code",
   "execution_count": 4,
   "metadata": {},
   "outputs": [],
   "source": [
    "# corpus로 부터 맥락과 타깃 설정\n",
    " \n",
    "def create_contexts_target(corpus, window_size = 1) :\n",
    "    target = corpus[window_size : -window_size]\n",
    "    contexts = []\n",
    "    \n",
    "    for idx in range(window_size, len(corpus) - window_size) :\n",
    "        cs = []\n",
    "        for t in range(-window_size, window_size + 1) :\n",
    "            if t == 0 :\n",
    "                continue\n",
    "            cs.append(corpus[idx + t])\n",
    "        contexts.append(cs)\n",
    "        \n",
    "    return np.array(contexts), np.array(target)"
   ]
  },
  {
   "cell_type": "code",
   "execution_count": 5,
   "metadata": {},
   "outputs": [
    {
     "name": "stdout",
     "output_type": "stream",
     "text": [
      "[[0 2]\n",
      " [1 3]\n",
      " [2 4]\n",
      " [3 1]\n",
      " [4 5]\n",
      " [1 6]]\n",
      "[1 2 3 4 1 5]\n"
     ]
    }
   ],
   "source": [
    "contexts, target = create_contexts_target(corpus, window_size = 1)\n",
    "\n",
    "print(contexts)\n",
    "\n",
    "print(target)"
   ]
  },
  {
   "cell_type": "code",
   "execution_count": 3,
   "metadata": {},
   "outputs": [
    {
     "name": "stdout",
     "output_type": "stream",
     "text": [
      "[[0 1 0 0 0 0 0]\n",
      " [0 0 1 0 0 0 0]\n",
      " [0 0 0 1 0 0 0]\n",
      " [0 0 0 0 1 0 0]\n",
      " [0 1 0 0 0 0 0]\n",
      " [0 0 0 0 0 1 0]]\n",
      "[[[1 0 0 0 0 0 0]\n",
      "  [0 0 1 0 0 0 0]]\n",
      "\n",
      " [[0 1 0 0 0 0 0]\n",
      "  [0 0 0 1 0 0 0]]\n",
      "\n",
      " [[0 0 1 0 0 0 0]\n",
      "  [0 0 0 0 1 0 0]]\n",
      "\n",
      " [[0 0 0 1 0 0 0]\n",
      "  [0 1 0 0 0 0 0]]\n",
      "\n",
      " [[0 0 0 0 1 0 0]\n",
      "  [0 0 0 0 0 1 0]]\n",
      "\n",
      " [[0 1 0 0 0 0 0]\n",
      "  [0 0 0 0 0 0 1]]]\n"
     ]
    }
   ],
   "source": [
    "from common.util import preprocess, create_contexts_target, convert_one_hot\n",
    "\n",
    "text = 'You say goodbye and I say hello.'\n",
    "corpus, word_to_id, id_to_word = preprocess(text)\n",
    "\n",
    "contexts, target = create_contexts_target(corpus, window_size = 1)\n",
    "vocab_size = len(word_to_id)\n",
    "target = convert_one_hot(target, vocab_size)\n",
    "contexts = convert_one_hot(contexts, vocab_size)\n",
    "\n",
    "print(target)\n",
    "\n",
    "print(contexts)"
   ]
  },
  {
   "cell_type": "code",
   "execution_count": 4,
   "metadata": {},
   "outputs": [],
   "source": [
    "## CBOW모델 구현\n",
    "\n",
    "from common.layers import MatMul, SoftmaxWithLoss\n",
    "\n",
    "class SimpleCBOW :\n",
    "    def __init__(self, vocab_size, hidden_size) :\n",
    "        V, H = vocab_size, hidden_size\n",
    "        \n",
    "        # 가중치 초기화\n",
    "        W_in = 0.01 * np.random.randn(V, H)\n",
    "        W_out = 0.01 * np.random.randn(H, V)\n",
    "        \n",
    "        # layers\n",
    "        self.in_layer0 = MatMul(W_in)\n",
    "        self.in_layer1 = MatMul(W_in)\n",
    "        self.out_layer = MatMul(W_out)\n",
    "        self.loss_layer = SoftmaxWithLoss()\n",
    "        \n",
    "        # 가중치와 기울기 모으기\n",
    "        layers = [self.in_layer0, self.in_layer1, self.out_layer]\n",
    "        self.params, self.grads = [], []\n",
    "        for layer in layers :\n",
    "            self.params += layer.params\n",
    "            self.grads += layer.grads\n",
    "            \n",
    "        # 분산 표현 저장\n",
    "        self.word_vecs = W_in\n",
    "        \n",
    "    def forward(self, contexts, target) :\n",
    "        h0 = self.in_layer0.forward(contexts[:, 0])\n",
    "        h1 = self.in_layer1.forward(contexts[:, 1])\n",
    "        h = (h0 + h1) * 0.5\n",
    "        score = self.out_layer.forward(h)\n",
    "        loss = self.loss_layer.forward(score, target)\n",
    "        return loss\n",
    "    \n",
    "    def backward(self, dout = 1) :\n",
    "        ds = self.loss_layer.backward(dout)\n",
    "        da = self.out_layer.backward(ds)\n",
    "        da *= 0.5\n",
    "        \n",
    "        self.in_layer1.backward(da)\n",
    "        self.in_layer0.backward(da)\n",
    "        \n",
    "        return None"
   ]
  },
  {
   "cell_type": "code",
   "execution_count": 1,
   "metadata": {},
   "outputs": [
    {
     "name": "stdout",
     "output_type": "stream",
     "text": [
      "| 에폭 1 |  반복 1 / 2 | 시간 0[s] | 손실 1.95\n",
      "| 에폭 2 |  반복 1 / 2 | 시간 0[s] | 손실 1.95\n",
      "| 에폭 3 |  반복 1 / 2 | 시간 0[s] | 손실 1.95\n",
      "| 에폭 4 |  반복 1 / 2 | 시간 0[s] | 손실 1.95\n",
      "| 에폭 5 |  반복 1 / 2 | 시간 0[s] | 손실 1.95\n",
      "| 에폭 6 |  반복 1 / 2 | 시간 0[s] | 손실 1.95\n",
      "| 에폭 7 |  반복 1 / 2 | 시간 0[s] | 손실 1.95\n",
      "| 에폭 8 |  반복 1 / 2 | 시간 0[s] | 손실 1.95\n",
      "| 에폭 9 |  반복 1 / 2 | 시간 0[s] | 손실 1.95\n",
      "| 에폭 10 |  반복 1 / 2 | 시간 0[s] | 손실 1.95\n",
      "| 에폭 11 |  반복 1 / 2 | 시간 0[s] | 손실 1.95\n",
      "| 에폭 12 |  반복 1 / 2 | 시간 0[s] | 손실 1.94\n",
      "| 에폭 13 |  반복 1 / 2 | 시간 0[s] | 손실 1.94\n",
      "| 에폭 14 |  반복 1 / 2 | 시간 0[s] | 손실 1.94\n",
      "| 에폭 15 |  반복 1 / 2 | 시간 0[s] | 손실 1.94\n",
      "| 에폭 16 |  반복 1 / 2 | 시간 0[s] | 손실 1.94\n",
      "| 에폭 17 |  반복 1 / 2 | 시간 0[s] | 손실 1.94\n",
      "| 에폭 18 |  반복 1 / 2 | 시간 0[s] | 손실 1.94\n",
      "| 에폭 19 |  반복 1 / 2 | 시간 0[s] | 손실 1.94\n",
      "| 에폭 20 |  반복 1 / 2 | 시간 0[s] | 손실 1.94\n",
      "| 에폭 21 |  반복 1 / 2 | 시간 0[s] | 손실 1.94\n",
      "| 에폭 22 |  반복 1 / 2 | 시간 0[s] | 손실 1.94\n",
      "| 에폭 23 |  반복 1 / 2 | 시간 0[s] | 손실 1.94\n",
      "| 에폭 24 |  반복 1 / 2 | 시간 0[s] | 손실 1.94\n",
      "| 에폭 25 |  반복 1 / 2 | 시간 0[s] | 손실 1.94\n",
      "| 에폭 26 |  반복 1 / 2 | 시간 0[s] | 손실 1.94\n",
      "| 에폭 27 |  반복 1 / 2 | 시간 0[s] | 손실 1.94\n",
      "| 에폭 28 |  반복 1 / 2 | 시간 0[s] | 손실 1.94\n",
      "| 에폭 29 |  반복 1 / 2 | 시간 0[s] | 손실 1.94\n",
      "| 에폭 30 |  반복 1 / 2 | 시간 0[s] | 손실 1.93\n",
      "| 에폭 31 |  반복 1 / 2 | 시간 0[s] | 손실 1.94\n",
      "| 에폭 32 |  반복 1 / 2 | 시간 0[s] | 손실 1.93\n",
      "| 에폭 33 |  반복 1 / 2 | 시간 0[s] | 손실 1.93\n",
      "| 에폭 34 |  반복 1 / 2 | 시간 0[s] | 손실 1.93\n",
      "| 에폭 35 |  반복 1 / 2 | 시간 0[s] | 손실 1.93\n",
      "| 에폭 36 |  반복 1 / 2 | 시간 0[s] | 손실 1.93\n",
      "| 에폭 37 |  반복 1 / 2 | 시간 0[s] | 손실 1.93\n",
      "| 에폭 38 |  반복 1 / 2 | 시간 0[s] | 손실 1.93\n",
      "| 에폭 39 |  반복 1 / 2 | 시간 0[s] | 손실 1.93\n",
      "| 에폭 40 |  반복 1 / 2 | 시간 0[s] | 손실 1.92\n",
      "| 에폭 41 |  반복 1 / 2 | 시간 0[s] | 손실 1.92\n",
      "| 에폭 42 |  반복 1 / 2 | 시간 0[s] | 손실 1.92\n",
      "| 에폭 43 |  반복 1 / 2 | 시간 0[s] | 손실 1.92\n",
      "| 에폭 44 |  반복 1 / 2 | 시간 0[s] | 손실 1.92\n",
      "| 에폭 45 |  반복 1 / 2 | 시간 0[s] | 손실 1.92\n",
      "| 에폭 46 |  반복 1 / 2 | 시간 0[s] | 손실 1.92\n",
      "| 에폭 47 |  반복 1 / 2 | 시간 0[s] | 손실 1.92\n",
      "| 에폭 48 |  반복 1 / 2 | 시간 0[s] | 손실 1.92\n",
      "| 에폭 49 |  반복 1 / 2 | 시간 0[s] | 손실 1.91\n",
      "| 에폭 50 |  반복 1 / 2 | 시간 0[s] | 손실 1.91\n",
      "| 에폭 51 |  반복 1 / 2 | 시간 0[s] | 손실 1.91\n",
      "| 에폭 52 |  반복 1 / 2 | 시간 0[s] | 손실 1.91\n",
      "| 에폭 53 |  반복 1 / 2 | 시간 0[s] | 손실 1.90\n",
      "| 에폭 54 |  반복 1 / 2 | 시간 0[s] | 손실 1.90\n",
      "| 에폭 55 |  반복 1 / 2 | 시간 0[s] | 손실 1.90\n",
      "| 에폭 56 |  반복 1 / 2 | 시간 0[s] | 손실 1.90\n",
      "| 에폭 57 |  반복 1 / 2 | 시간 0[s] | 손실 1.90\n",
      "| 에폭 58 |  반복 1 / 2 | 시간 0[s] | 손실 1.89\n",
      "| 에폭 59 |  반복 1 / 2 | 시간 0[s] | 손실 1.89\n",
      "| 에폭 60 |  반복 1 / 2 | 시간 0[s] | 손실 1.89\n",
      "| 에폭 61 |  반복 1 / 2 | 시간 0[s] | 손실 1.89\n",
      "| 에폭 62 |  반복 1 / 2 | 시간 0[s] | 손실 1.88\n",
      "| 에폭 63 |  반복 1 / 2 | 시간 0[s] | 손실 1.88\n",
      "| 에폭 64 |  반복 1 / 2 | 시간 0[s] | 손실 1.88\n",
      "| 에폭 65 |  반복 1 / 2 | 시간 0[s] | 손실 1.88\n",
      "| 에폭 66 |  반복 1 / 2 | 시간 0[s] | 손실 1.87\n",
      "| 에폭 67 |  반복 1 / 2 | 시간 0[s] | 손실 1.87\n",
      "| 에폭 68 |  반복 1 / 2 | 시간 0[s] | 손실 1.87\n",
      "| 에폭 69 |  반복 1 / 2 | 시간 0[s] | 손실 1.87\n",
      "| 에폭 70 |  반복 1 / 2 | 시간 0[s] | 손실 1.86\n",
      "| 에폭 71 |  반복 1 / 2 | 시간 0[s] | 손실 1.86\n",
      "| 에폭 72 |  반복 1 / 2 | 시간 0[s] | 손실 1.86\n",
      "| 에폭 73 |  반복 1 / 2 | 시간 0[s] | 손실 1.85\n",
      "| 에폭 74 |  반복 1 / 2 | 시간 0[s] | 손실 1.85\n",
      "| 에폭 75 |  반복 1 / 2 | 시간 0[s] | 손실 1.85\n",
      "| 에폭 76 |  반복 1 / 2 | 시간 0[s] | 손실 1.84\n",
      "| 에폭 77 |  반복 1 / 2 | 시간 0[s] | 손실 1.84\n",
      "| 에폭 78 |  반복 1 / 2 | 시간 0[s] | 손실 1.84\n",
      "| 에폭 79 |  반복 1 / 2 | 시간 0[s] | 손실 1.84\n",
      "| 에폭 80 |  반복 1 / 2 | 시간 0[s] | 손실 1.83\n",
      "| 에폭 81 |  반복 1 / 2 | 시간 0[s] | 손실 1.83\n",
      "| 에폭 82 |  반복 1 / 2 | 시간 0[s] | 손실 1.82\n",
      "| 에폭 83 |  반복 1 / 2 | 시간 0[s] | 손실 1.82\n",
      "| 에폭 84 |  반복 1 / 2 | 시간 0[s] | 손실 1.82\n",
      "| 에폭 85 |  반복 1 / 2 | 시간 0[s] | 손실 1.81\n",
      "| 에폭 86 |  반복 1 / 2 | 시간 0[s] | 손실 1.81\n",
      "| 에폭 87 |  반복 1 / 2 | 시간 0[s] | 손실 1.81\n",
      "| 에폭 88 |  반복 1 / 2 | 시간 0[s] | 손실 1.80\n",
      "| 에폭 89 |  반복 1 / 2 | 시간 0[s] | 손실 1.81\n",
      "| 에폭 90 |  반복 1 / 2 | 시간 0[s] | 손실 1.80\n",
      "| 에폭 91 |  반복 1 / 2 | 시간 0[s] | 손실 1.79\n",
      "| 에폭 92 |  반복 1 / 2 | 시간 0[s] | 손실 1.79\n",
      "| 에폭 93 |  반복 1 / 2 | 시간 0[s] | 손실 1.79\n",
      "| 에폭 94 |  반복 1 / 2 | 시간 0[s] | 손실 1.78\n",
      "| 에폭 95 |  반복 1 / 2 | 시간 0[s] | 손실 1.78\n",
      "| 에폭 96 |  반복 1 / 2 | 시간 0[s] | 손실 1.78\n",
      "| 에폭 97 |  반복 1 / 2 | 시간 0[s] | 손실 1.76\n",
      "| 에폭 98 |  반복 1 / 2 | 시간 0[s] | 손실 1.77\n",
      "| 에폭 99 |  반복 1 / 2 | 시간 0[s] | 손실 1.76\n",
      "| 에폭 100 |  반복 1 / 2 | 시간 0[s] | 손실 1.76\n"
     ]
    },
    {
     "name": "stderr",
     "output_type": "stream",
     "text": [
      "/Users/kimtaeyoung/opt/anaconda3/lib/python3.9/site-packages/IPython/core/pylabtools.py:151: UserWarning: Glyph 48152 (\\N{HANGUL SYLLABLE BAN}) missing from current font.\n",
      "  fig.canvas.print_figure(bytes_io, **kw)\n",
      "/Users/kimtaeyoung/opt/anaconda3/lib/python3.9/site-packages/IPython/core/pylabtools.py:151: UserWarning: Glyph 48373 (\\N{HANGUL SYLLABLE BOG}) missing from current font.\n",
      "  fig.canvas.print_figure(bytes_io, **kw)\n",
      "/Users/kimtaeyoung/opt/anaconda3/lib/python3.9/site-packages/IPython/core/pylabtools.py:151: UserWarning: Glyph 49552 (\\N{HANGUL SYLLABLE SON}) missing from current font.\n",
      "  fig.canvas.print_figure(bytes_io, **kw)\n",
      "/Users/kimtaeyoung/opt/anaconda3/lib/python3.9/site-packages/IPython/core/pylabtools.py:151: UserWarning: Glyph 49892 (\\N{HANGUL SYLLABLE SIL}) missing from current font.\n",
      "  fig.canvas.print_figure(bytes_io, **kw)\n"
     ]
    },
    {
     "data": {
      "image/png": "[encoded data removed]",
      "text/plain": [
       "<Figure size 640x480 with 1 Axes>"
      ]
     },
     "metadata": {},
     "output_type": "display_data"
    }
   ],
   "source": [
    "# 학습 코드 구현\n",
    "\n",
    "\n",
    "import sys\n",
    "sys.path.append('..')\n",
    "from common.trainer import Trainer\n",
    "from common.optimizer import Adam\n",
    "from simple_cbow import SimpleCBOW\n",
    "from common.util import preprocess, create_contexts_target, convert_one_hot\n",
    "\n",
    "window_size = 1\n",
    "hidden_size = 5\n",
    "batch_size = 3\n",
    "max_epoch = 100\n",
    "\n",
    "text = 'You say goodbye and I say hello.'\n",
    "corpus, word_to_id, id_to_word = preprocess(text)\n",
    "\n",
    "contexts, target = create_contexts_target(corpus, window_size = 1)\n",
    "vocab_size = len(word_to_id)\n",
    "target = convert_one_hot(target, vocab_size)\n",
    "contexts = convert_one_hot(contexts, vocab_size)\n",
    "\n",
    "model = SimpleCBOW(vocab_size, hidden_size)\n",
    "optimizer = Adam()\n",
    "trainer = Trainer(model, optimizer)\n",
    "\n",
    "trainer.fit(contexts, target, max_epoch, batch_size)\n",
    "trainer.plot()"
   ]
  },
  {
   "cell_type": "code",
   "execution_count": 2,
   "metadata": {},
   "outputs": [
    {
     "name": "stdout",
     "output_type": "stream",
     "text": [
      "you [-0.10541161 -0.12478363  0.21679826  0.2346806  -0.21353581]\n",
      "say [-0.21403114  0.29364695 -0.12543069  0.27803737  0.26368625]\n",
      "goodbye [ 0.1877696  -0.22211614  0.26551141  0.07237922 -0.25296211]\n",
      "and [-0.2591987   0.25752723  0.13468768  0.25619788  0.25509851]\n",
      "i [ 0.17304197 -0.24419311  0.25745288  0.06320586 -0.2610595 ]\n",
      "hello [-0.11266775 -0.12882101  0.20628768  0.21347278 -0.21717487]\n",
      ". [ 0.21247455  0.21060345 -0.21188874  0.18984746  0.20052241]\n"
     ]
    }
   ],
   "source": [
    "word_vecs = model.word_vecs\n",
    "\n",
    "for word_id, word in id_to_word.items() :\n",
    "    print(word, word_vecs[word_id])"
   ]
  },
  {
   "cell_type": "code",
   "execution_count": null,
   "metadata": {},
   "outputs": [],
   "source": []
  }
 ],
 "metadata": {
  "kernelspec": {
   "display_name": "base",
   "language": "python",
   "name": "python3"
  },
  "language_info": {
   "codemirror_mode": {
    "name": "ipython",
    "version": 3
   },
   "file_extension": ".py",
   "mimetype": "text/x-python",
   "name": "python",
   "nbconvert_exporter": "python",
   "pygments_lexer": "ipython3",
   "version": "3.9.13"
  },
  "orig_nbformat": 4,
  "vscode": {
   "interpreter": {
    "hash": "738dcd7323eca0c91ee514817b0126024b9e8ea1d946a583bc36394e62faedaa"
   }
  }
 },
 "nbformat": 4,
 "nbformat_minor": 2
}
