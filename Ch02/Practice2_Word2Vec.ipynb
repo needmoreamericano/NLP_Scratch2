{
 "cells": [
  {
   "cell_type": "code",
   "execution_count": 2,
   "metadata": {},
   "outputs": [],
   "source": [
    "import sys\n",
    "sys.path.append('..')\n",
    "import numpy as np\n",
    "from common.layers import MatMul"
   ]
  },
  {
   "cell_type": "code",
   "execution_count": 3,
   "metadata": {},
   "outputs": [
    {
     "name": "stdout",
     "output_type": "stream",
     "text": [
      "[-0.73310833 -2.25093298  0.543027  ]\n"
     ]
    }
   ],
   "source": [
    "# 완전연결 계층에 의한 변환\n",
    "\n",
    "## 입력\n",
    "c = np.array([1,0,0,0,0,0,0])\n",
    "\n",
    "## 가중치\n",
    "W = np.random.randn(7,3)\n",
    "\n",
    "## 중간 노드\n",
    "h = np.matmul(c, W)\n",
    "\n",
    "print(h)\n"
   ]
  },
  {
   "cell_type": "code",
   "execution_count": null,
   "metadata": {},
   "outputs": [],
   "source": []
  }
 ],
 "metadata": {
  "kernelspec": {
   "display_name": "base",
   "language": "python",
   "name": "python3"
  },
  "language_info": {
   "codemirror_mode": {
    "name": "ipython",
    "version": 3
   },
   "file_extension": ".py",
   "mimetype": "text/x-python",
   "name": "python",
   "nbconvert_exporter": "python",
   "pygments_lexer": "ipython3",
   "version": "3.9.13"
  },
  "orig_nbformat": 4,
  "vscode": {
   "interpreter": {
    "hash": "738dcd7323eca0c91ee514817b0126024b9e8ea1d946a583bc36394e62faedaa"
   }
  }
 },
 "nbformat": 4,
 "nbformat_minor": 2
}
